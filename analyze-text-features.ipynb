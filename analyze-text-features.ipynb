{
 "cells": [
  {
   "cell_type": "markdown",
   "id": "52d4d43102de9189",
   "metadata": {},
   "source": [
    "This notebook is used to analyze the text features from the t-scan model.\n",
    "The output of the anaysis is a machine learning model that predicts the AVI score of a text based on the text features."
   ]
  },
  {
   "cell_type": "code",
   "execution_count": 52,
   "id": "initial_id",
   "metadata": {
    "ExecuteTime": {
     "end_time": "2024-06-10T13:58:50.037556Z",
     "start_time": "2024-06-10T13:58:50.035465Z"
    }
   },
   "outputs": [],
   "source": [
    "import pandas as pd\n",
    "import numpy as np\n",
    "from sklearn.model_selection import train_test_split\n",
    "from sklearn import tree\n",
    "from sklearn.svm import SVC\n",
    "from sklearn.linear_model import LogisticRegression\n",
    "from sklearn.metrics import accuracy_score, classification_report\n",
    "from sklearn.preprocessing import StandardScaler\n",
    "from sklearn.model_selection import train_test_split\n"
   ]
  },
  {
   "cell_type": "code",
   "execution_count": 53,
   "id": "9a19ee6a33eb14fa",
   "metadata": {
    "ExecuteTime": {
     "end_time": "2024-06-10T13:58:50.053485Z",
     "start_time": "2024-06-10T13:58:50.039095Z"
    }
   },
   "outputs": [
    {
     "data": {
      "text/html": [
       "<div>\n",
       "<style scoped>\n",
       "    .dataframe tbody tr th:only-of-type {\n",
       "        vertical-align: middle;\n",
       "    }\n",
       "\n",
       "    .dataframe tbody tr th {\n",
       "        vertical-align: top;\n",
       "    }\n",
       "\n",
       "    .dataframe thead th {\n",
       "        text-align: right;\n",
       "    }\n",
       "</style>\n",
       "<table border=\"1\" class=\"dataframe\">\n",
       "  <thead>\n",
       "    <tr style=\"text-align: right;\">\n",
       "      <th></th>\n",
       "      <th>Inputfile</th>\n",
       "      <th>Par_per_doc</th>\n",
       "      <th>Zin_per_doc</th>\n",
       "      <th>Word_per_doc</th>\n",
       "      <th>Alpino_status</th>\n",
       "      <th>wrd_freq_log_zn_corr</th>\n",
       "      <th>wrd_freq_zn_log</th>\n",
       "      <th>Conc_nw_ruim_p</th>\n",
       "      <th>Conc_nw_strikt_p</th>\n",
       "      <th>Alg_nw_d</th>\n",
       "      <th>...</th>\n",
       "      <th>Log_prob_bwd_inhwrd_zn</th>\n",
       "      <th>Entropie_bwd</th>\n",
       "      <th>Entropie_bwd_norm</th>\n",
       "      <th>Perplexiteit_bwd</th>\n",
       "      <th>Perplexiteit_bwd_norm</th>\n",
       "      <th>Eigen_classificatie</th>\n",
       "      <th>LiNT_score1</th>\n",
       "      <th>LiNT_niveau1</th>\n",
       "      <th>LiNT_score2</th>\n",
       "      <th>LiNT_niveau2</th>\n",
       "    </tr>\n",
       "  </thead>\n",
       "  <tbody>\n",
       "    <tr>\n",
       "      <th>0</th>\n",
       "      <td>input/AVI_1_muis_henk_is_niet_bang.txt</td>\n",
       "      <td>1</td>\n",
       "      <td>21</td>\n",
       "      <td>184</td>\n",
       "      <td>0</td>\n",
       "      <td>4.82067</td>\n",
       "      <td>4.82067</td>\n",
       "      <td>0.687500</td>\n",
       "      <td>0.625000</td>\n",
       "      <td>0.00000</td>\n",
       "      <td>...</td>\n",
       "      <td>NaN</td>\n",
       "      <td>NaN</td>\n",
       "      <td>NaN</td>\n",
       "      <td>NaN</td>\n",
       "      <td>NaN</td>\n",
       "      <td>NaN</td>\n",
       "      <td>24.8352</td>\n",
       "      <td>1</td>\n",
       "      <td>23.8926</td>\n",
       "      <td>1</td>\n",
       "    </tr>\n",
       "    <tr>\n",
       "      <th>1</th>\n",
       "      <td>input/AVI_3_ongeluk.txt</td>\n",
       "      <td>3</td>\n",
       "      <td>23</td>\n",
       "      <td>211</td>\n",
       "      <td>0</td>\n",
       "      <td>5.22221</td>\n",
       "      <td>5.11052</td>\n",
       "      <td>0.645833</td>\n",
       "      <td>0.500000</td>\n",
       "      <td>4.73934</td>\n",
       "      <td>...</td>\n",
       "      <td>NaN</td>\n",
       "      <td>NaN</td>\n",
       "      <td>NaN</td>\n",
       "      <td>NaN</td>\n",
       "      <td>NaN</td>\n",
       "      <td>NaN</td>\n",
       "      <td>19.0413</td>\n",
       "      <td>1</td>\n",
       "      <td>19.8608</td>\n",
       "      <td>1</td>\n",
       "    </tr>\n",
       "    <tr>\n",
       "      <th>2</th>\n",
       "      <td>input/AVI_5_op_schoolreis.txt</td>\n",
       "      <td>4</td>\n",
       "      <td>20</td>\n",
       "      <td>238</td>\n",
       "      <td>0</td>\n",
       "      <td>4.86412</td>\n",
       "      <td>4.79740</td>\n",
       "      <td>0.755102</td>\n",
       "      <td>0.469388</td>\n",
       "      <td>0.00000</td>\n",
       "      <td>...</td>\n",
       "      <td>NaN</td>\n",
       "      <td>NaN</td>\n",
       "      <td>NaN</td>\n",
       "      <td>NaN</td>\n",
       "      <td>NaN</td>\n",
       "      <td>NaN</td>\n",
       "      <td>29.6614</td>\n",
       "      <td>1</td>\n",
       "      <td>29.1732</td>\n",
       "      <td>1</td>\n",
       "    </tr>\n",
       "    <tr>\n",
       "      <th>3</th>\n",
       "      <td>input/AVI_8_Een_tragisch_ongeval.txt</td>\n",
       "      <td>2</td>\n",
       "      <td>13</td>\n",
       "      <td>158</td>\n",
       "      <td>0</td>\n",
       "      <td>4.17837</td>\n",
       "      <td>3.83050</td>\n",
       "      <td>0.540541</td>\n",
       "      <td>0.405405</td>\n",
       "      <td>31.64560</td>\n",
       "      <td>...</td>\n",
       "      <td>NaN</td>\n",
       "      <td>NaN</td>\n",
       "      <td>NaN</td>\n",
       "      <td>NaN</td>\n",
       "      <td>NaN</td>\n",
       "      <td>NaN</td>\n",
       "      <td>47.9303</td>\n",
       "      <td>3</td>\n",
       "      <td>45.4634</td>\n",
       "      <td>2</td>\n",
       "    </tr>\n",
       "    <tr>\n",
       "      <th>4</th>\n",
       "      <td>input/AVI_3_een_kwade_kapster.txt</td>\n",
       "      <td>5</td>\n",
       "      <td>26</td>\n",
       "      <td>208</td>\n",
       "      <td>0</td>\n",
       "      <td>5.07854</td>\n",
       "      <td>5.07854</td>\n",
       "      <td>0.928571</td>\n",
       "      <td>0.892857</td>\n",
       "      <td>0.00000</td>\n",
       "      <td>...</td>\n",
       "      <td>NaN</td>\n",
       "      <td>NaN</td>\n",
       "      <td>NaN</td>\n",
       "      <td>NaN</td>\n",
       "      <td>NaN</td>\n",
       "      <td>NaN</td>\n",
       "      <td>19.4064</td>\n",
       "      <td>1</td>\n",
       "      <td>16.1984</td>\n",
       "      <td>1</td>\n",
       "    </tr>\n",
       "  </tbody>\n",
       "</table>\n",
       "<p>5 rows × 473 columns</p>\n",
       "</div>"
      ],
      "text/plain": [
       "                                Inputfile  Par_per_doc  Zin_per_doc  \\\n",
       "0  input/AVI_1_muis_henk_is_niet_bang.txt            1           21   \n",
       "1                 input/AVI_3_ongeluk.txt            3           23   \n",
       "2           input/AVI_5_op_schoolreis.txt            4           20   \n",
       "3    input/AVI_8_Een_tragisch_ongeval.txt            2           13   \n",
       "4       input/AVI_3_een_kwade_kapster.txt            5           26   \n",
       "\n",
       "   Word_per_doc  Alpino_status  wrd_freq_log_zn_corr  wrd_freq_zn_log  \\\n",
       "0           184              0               4.82067          4.82067   \n",
       "1           211              0               5.22221          5.11052   \n",
       "2           238              0               4.86412          4.79740   \n",
       "3           158              0               4.17837          3.83050   \n",
       "4           208              0               5.07854          5.07854   \n",
       "\n",
       "   Conc_nw_ruim_p  Conc_nw_strikt_p  Alg_nw_d  ...  Log_prob_bwd_inhwrd_zn  \\\n",
       "0        0.687500          0.625000   0.00000  ...                     NaN   \n",
       "1        0.645833          0.500000   4.73934  ...                     NaN   \n",
       "2        0.755102          0.469388   0.00000  ...                     NaN   \n",
       "3        0.540541          0.405405  31.64560  ...                     NaN   \n",
       "4        0.928571          0.892857   0.00000  ...                     NaN   \n",
       "\n",
       "   Entropie_bwd  Entropie_bwd_norm  Perplexiteit_bwd  Perplexiteit_bwd_norm  \\\n",
       "0           NaN                NaN               NaN                    NaN   \n",
       "1           NaN                NaN               NaN                    NaN   \n",
       "2           NaN                NaN               NaN                    NaN   \n",
       "3           NaN                NaN               NaN                    NaN   \n",
       "4           NaN                NaN               NaN                    NaN   \n",
       "\n",
       "   Eigen_classificatie  LiNT_score1  LiNT_niveau1  LiNT_score2  LiNT_niveau2  \n",
       "0                  NaN      24.8352             1      23.8926             1  \n",
       "1                  NaN      19.0413             1      19.8608             1  \n",
       "2                  NaN      29.6614             1      29.1732             1  \n",
       "3                  NaN      47.9303             3      45.4634             2  \n",
       "4                  NaN      19.4064             1      16.1984             1  \n",
       "\n",
       "[5 rows x 473 columns]"
      ]
     },
     "execution_count": 53,
     "metadata": {},
     "output_type": "execute_result"
    }
   ],
   "source": [
    "# Load the data into a pandas dataframe\n",
    "data = pd.read_csv('results.csv', index_col=False)\n",
    "data.head()"
   ]
  },
  {
   "cell_type": "code",
   "execution_count": 54,
   "id": "4366a2286138a755",
   "metadata": {
    "ExecuteTime": {
     "end_time": "2024-06-10T13:58:50.057061Z",
     "start_time": "2024-06-10T13:58:50.054609Z"
    }
   },
   "outputs": [],
   "source": [
    "# Place the AVI score in a separate variable\n",
    "# Currently it is in the title column and we need to extract it\n",
    "first_column = data['Inputfile']\n",
    "# Extract AVI scores from strings\n",
    "avi_scores = [s.split('_')[1] for s in first_column]\n",
    "\n",
    "# Add the AVI scores to the dataframe\n",
    "data.insert(1, 'AVI', avi_scores)\n",
    "# Make the avi the second column"
   ]
  },
  {
   "cell_type": "code",
   "execution_count": 55,
   "id": "5279b1303ef1af9f",
   "metadata": {
    "ExecuteTime": {
     "end_time": "2024-06-10T13:58:50.064486Z",
     "start_time": "2024-06-10T13:58:50.057826Z"
    }
   },
   "outputs": [
    {
     "data": {
      "text/html": [
       "<div>\n",
       "<style scoped>\n",
       "    .dataframe tbody tr th:only-of-type {\n",
       "        vertical-align: middle;\n",
       "    }\n",
       "\n",
       "    .dataframe tbody tr th {\n",
       "        vertical-align: top;\n",
       "    }\n",
       "\n",
       "    .dataframe thead th {\n",
       "        text-align: right;\n",
       "    }\n",
       "</style>\n",
       "<table border=\"1\" class=\"dataframe\">\n",
       "  <thead>\n",
       "    <tr style=\"text-align: right;\">\n",
       "      <th></th>\n",
       "      <th>Inputfile</th>\n",
       "      <th>AVI</th>\n",
       "      <th>Par_per_doc</th>\n",
       "      <th>Zin_per_doc</th>\n",
       "      <th>Word_per_doc</th>\n",
       "      <th>Alpino_status</th>\n",
       "      <th>wrd_freq_log_zn_corr</th>\n",
       "      <th>wrd_freq_zn_log</th>\n",
       "      <th>Conc_nw_ruim_p</th>\n",
       "      <th>Conc_nw_strikt_p</th>\n",
       "      <th>...</th>\n",
       "      <th>Log_prob_bwd_inhwrd_zn</th>\n",
       "      <th>Entropie_bwd</th>\n",
       "      <th>Entropie_bwd_norm</th>\n",
       "      <th>Perplexiteit_bwd</th>\n",
       "      <th>Perplexiteit_bwd_norm</th>\n",
       "      <th>Eigen_classificatie</th>\n",
       "      <th>LiNT_score1</th>\n",
       "      <th>LiNT_niveau1</th>\n",
       "      <th>LiNT_score2</th>\n",
       "      <th>LiNT_niveau2</th>\n",
       "    </tr>\n",
       "  </thead>\n",
       "  <tbody>\n",
       "    <tr>\n",
       "      <th>0</th>\n",
       "      <td>input/AVI_1_muis_henk_is_niet_bang.txt</td>\n",
       "      <td>1</td>\n",
       "      <td>1</td>\n",
       "      <td>21</td>\n",
       "      <td>184</td>\n",
       "      <td>0</td>\n",
       "      <td>4.82067</td>\n",
       "      <td>4.82067</td>\n",
       "      <td>0.687500</td>\n",
       "      <td>0.625000</td>\n",
       "      <td>...</td>\n",
       "      <td>NaN</td>\n",
       "      <td>NaN</td>\n",
       "      <td>NaN</td>\n",
       "      <td>NaN</td>\n",
       "      <td>NaN</td>\n",
       "      <td>NaN</td>\n",
       "      <td>24.8352</td>\n",
       "      <td>1</td>\n",
       "      <td>23.8926</td>\n",
       "      <td>1</td>\n",
       "    </tr>\n",
       "    <tr>\n",
       "      <th>1</th>\n",
       "      <td>input/AVI_3_ongeluk.txt</td>\n",
       "      <td>3</td>\n",
       "      <td>3</td>\n",
       "      <td>23</td>\n",
       "      <td>211</td>\n",
       "      <td>0</td>\n",
       "      <td>5.22221</td>\n",
       "      <td>5.11052</td>\n",
       "      <td>0.645833</td>\n",
       "      <td>0.500000</td>\n",
       "      <td>...</td>\n",
       "      <td>NaN</td>\n",
       "      <td>NaN</td>\n",
       "      <td>NaN</td>\n",
       "      <td>NaN</td>\n",
       "      <td>NaN</td>\n",
       "      <td>NaN</td>\n",
       "      <td>19.0413</td>\n",
       "      <td>1</td>\n",
       "      <td>19.8608</td>\n",
       "      <td>1</td>\n",
       "    </tr>\n",
       "    <tr>\n",
       "      <th>2</th>\n",
       "      <td>input/AVI_5_op_schoolreis.txt</td>\n",
       "      <td>5</td>\n",
       "      <td>4</td>\n",
       "      <td>20</td>\n",
       "      <td>238</td>\n",
       "      <td>0</td>\n",
       "      <td>4.86412</td>\n",
       "      <td>4.79740</td>\n",
       "      <td>0.755102</td>\n",
       "      <td>0.469388</td>\n",
       "      <td>...</td>\n",
       "      <td>NaN</td>\n",
       "      <td>NaN</td>\n",
       "      <td>NaN</td>\n",
       "      <td>NaN</td>\n",
       "      <td>NaN</td>\n",
       "      <td>NaN</td>\n",
       "      <td>29.6614</td>\n",
       "      <td>1</td>\n",
       "      <td>29.1732</td>\n",
       "      <td>1</td>\n",
       "    </tr>\n",
       "    <tr>\n",
       "      <th>3</th>\n",
       "      <td>input/AVI_8_Een_tragisch_ongeval.txt</td>\n",
       "      <td>8</td>\n",
       "      <td>2</td>\n",
       "      <td>13</td>\n",
       "      <td>158</td>\n",
       "      <td>0</td>\n",
       "      <td>4.17837</td>\n",
       "      <td>3.83050</td>\n",
       "      <td>0.540541</td>\n",
       "      <td>0.405405</td>\n",
       "      <td>...</td>\n",
       "      <td>NaN</td>\n",
       "      <td>NaN</td>\n",
       "      <td>NaN</td>\n",
       "      <td>NaN</td>\n",
       "      <td>NaN</td>\n",
       "      <td>NaN</td>\n",
       "      <td>47.9303</td>\n",
       "      <td>3</td>\n",
       "      <td>45.4634</td>\n",
       "      <td>2</td>\n",
       "    </tr>\n",
       "    <tr>\n",
       "      <th>4</th>\n",
       "      <td>input/AVI_3_een_kwade_kapster.txt</td>\n",
       "      <td>3</td>\n",
       "      <td>5</td>\n",
       "      <td>26</td>\n",
       "      <td>208</td>\n",
       "      <td>0</td>\n",
       "      <td>5.07854</td>\n",
       "      <td>5.07854</td>\n",
       "      <td>0.928571</td>\n",
       "      <td>0.892857</td>\n",
       "      <td>...</td>\n",
       "      <td>NaN</td>\n",
       "      <td>NaN</td>\n",
       "      <td>NaN</td>\n",
       "      <td>NaN</td>\n",
       "      <td>NaN</td>\n",
       "      <td>NaN</td>\n",
       "      <td>19.4064</td>\n",
       "      <td>1</td>\n",
       "      <td>16.1984</td>\n",
       "      <td>1</td>\n",
       "    </tr>\n",
       "  </tbody>\n",
       "</table>\n",
       "<p>5 rows × 474 columns</p>\n",
       "</div>"
      ],
      "text/plain": [
       "                                Inputfile AVI  Par_per_doc  Zin_per_doc  \\\n",
       "0  input/AVI_1_muis_henk_is_niet_bang.txt   1            1           21   \n",
       "1                 input/AVI_3_ongeluk.txt   3            3           23   \n",
       "2           input/AVI_5_op_schoolreis.txt   5            4           20   \n",
       "3    input/AVI_8_Een_tragisch_ongeval.txt   8            2           13   \n",
       "4       input/AVI_3_een_kwade_kapster.txt   3            5           26   \n",
       "\n",
       "   Word_per_doc  Alpino_status  wrd_freq_log_zn_corr  wrd_freq_zn_log  \\\n",
       "0           184              0               4.82067          4.82067   \n",
       "1           211              0               5.22221          5.11052   \n",
       "2           238              0               4.86412          4.79740   \n",
       "3           158              0               4.17837          3.83050   \n",
       "4           208              0               5.07854          5.07854   \n",
       "\n",
       "   Conc_nw_ruim_p  Conc_nw_strikt_p  ...  Log_prob_bwd_inhwrd_zn  \\\n",
       "0        0.687500          0.625000  ...                     NaN   \n",
       "1        0.645833          0.500000  ...                     NaN   \n",
       "2        0.755102          0.469388  ...                     NaN   \n",
       "3        0.540541          0.405405  ...                     NaN   \n",
       "4        0.928571          0.892857  ...                     NaN   \n",
       "\n",
       "   Entropie_bwd  Entropie_bwd_norm  Perplexiteit_bwd  Perplexiteit_bwd_norm  \\\n",
       "0           NaN                NaN               NaN                    NaN   \n",
       "1           NaN                NaN               NaN                    NaN   \n",
       "2           NaN                NaN               NaN                    NaN   \n",
       "3           NaN                NaN               NaN                    NaN   \n",
       "4           NaN                NaN               NaN                    NaN   \n",
       "\n",
       "   Eigen_classificatie  LiNT_score1  LiNT_niveau1  LiNT_score2  LiNT_niveau2  \n",
       "0                  NaN      24.8352             1      23.8926             1  \n",
       "1                  NaN      19.0413             1      19.8608             1  \n",
       "2                  NaN      29.6614             1      29.1732             1  \n",
       "3                  NaN      47.9303             3      45.4634             2  \n",
       "4                  NaN      19.4064             1      16.1984             1  \n",
       "\n",
       "[5 rows x 474 columns]"
      ]
     },
     "execution_count": 55,
     "metadata": {},
     "output_type": "execute_result"
    }
   ],
   "source": [
    "data.head()"
   ]
  },
  {
   "cell_type": "code",
   "execution_count": 56,
   "id": "b9d4e498792b190c",
   "metadata": {
    "ExecuteTime": {
     "end_time": "2024-06-10T13:58:50.074058Z",
     "start_time": "2024-06-10T13:58:50.065654Z"
    }
   },
   "outputs": [],
   "source": [
    "# Save the data to a new csv file\n",
    "data.to_csv('results_with_avi.csv', index=False)"
   ]
  },
  {
   "cell_type": "code",
   "execution_count": 57,
   "id": "1487681979fd47c2",
   "metadata": {
    "ExecuteTime": {
     "end_time": "2024-06-10T13:58:50.077286Z",
     "start_time": "2024-06-10T13:58:50.075037Z"
    }
   },
   "outputs": [],
   "source": [
    "# Keep these columns and drop the rest\n",
    "columns_to_keep = ['Wrd_per_zin','Bijzin_per_zin','Pers_vnw_d', 'AVI', \"AL_max\"]\n",
    "# Select only the columns you want to keep\n",
    "data_filtered = data[columns_to_keep]"
   ]
  },
  {
   "cell_type": "code",
   "execution_count": 58,
   "id": "d519a7ff704a7e64",
   "metadata": {
    "ExecuteTime": {
     "end_time": "2024-06-10T13:59:12.265616Z",
     "start_time": "2024-06-10T13:59:12.258423Z"
    }
   },
   "outputs": [
    {
     "data": {
      "text/html": [
       "<div>\n",
       "<style scoped>\n",
       "    .dataframe tbody tr th:only-of-type {\n",
       "        vertical-align: middle;\n",
       "    }\n",
       "\n",
       "    .dataframe tbody tr th {\n",
       "        vertical-align: top;\n",
       "    }\n",
       "\n",
       "    .dataframe thead th {\n",
       "        text-align: right;\n",
       "    }\n",
       "</style>\n",
       "<table border=\"1\" class=\"dataframe\">\n",
       "  <thead>\n",
       "    <tr style=\"text-align: right;\">\n",
       "      <th></th>\n",
       "      <th>Wrd_per_zin</th>\n",
       "      <th>Bijzin_per_zin</th>\n",
       "      <th>Pers_vnw_d</th>\n",
       "      <th>AVI</th>\n",
       "      <th>AL_max</th>\n",
       "    </tr>\n",
       "  </thead>\n",
       "  <tbody>\n",
       "    <tr>\n",
       "      <th>0</th>\n",
       "      <td>8.76190</td>\n",
       "      <td>0.238095</td>\n",
       "      <td>163.04300</td>\n",
       "      <td>1</td>\n",
       "      <td>2.66667</td>\n",
       "    </tr>\n",
       "    <tr>\n",
       "      <th>1</th>\n",
       "      <td>9.17391</td>\n",
       "      <td>0.217391</td>\n",
       "      <td>99.52610</td>\n",
       "      <td>3</td>\n",
       "      <td>3.88782</td>\n",
       "    </tr>\n",
       "    <tr>\n",
       "      <th>2</th>\n",
       "      <td>11.90000</td>\n",
       "      <td>0.250000</td>\n",
       "      <td>79.83190</td>\n",
       "      <td>5</td>\n",
       "      <td>4.84375</td>\n",
       "    </tr>\n",
       "    <tr>\n",
       "      <th>3</th>\n",
       "      <td>12.15380</td>\n",
       "      <td>0.615385</td>\n",
       "      <td>6.32911</td>\n",
       "      <td>8</td>\n",
       "      <td>4.98611</td>\n",
       "    </tr>\n",
       "    <tr>\n",
       "      <th>4</th>\n",
       "      <td>8.00000</td>\n",
       "      <td>0.076923</td>\n",
       "      <td>144.23100</td>\n",
       "      <td>3</td>\n",
       "      <td>2.91778</td>\n",
       "    </tr>\n",
       "  </tbody>\n",
       "</table>\n",
       "</div>"
      ],
      "text/plain": [
       "   Wrd_per_zin  Bijzin_per_zin  Pers_vnw_d AVI   AL_max\n",
       "0      8.76190        0.238095   163.04300   1  2.66667\n",
       "1      9.17391        0.217391    99.52610   3  3.88782\n",
       "2     11.90000        0.250000    79.83190   5  4.84375\n",
       "3     12.15380        0.615385     6.32911   8  4.98611\n",
       "4      8.00000        0.076923   144.23100   3  2.91778"
      ]
     },
     "execution_count": 58,
     "metadata": {},
     "output_type": "execute_result"
    }
   ],
   "source": [
    "data_filtered.head()"
   ]
  },
  {
   "cell_type": "code",
   "execution_count": 59,
   "id": "eed3ef33662ac899",
   "metadata": {
    "ExecuteTime": {
     "end_time": "2024-06-10T13:58:50.086467Z",
     "start_time": "2024-06-10T13:58:50.082964Z"
    }
   },
   "outputs": [],
   "source": [
    "# Define test and train data\n",
    "X = data_filtered.drop(columns=['AVI'])\n",
    "y = data_filtered['AVI']\n",
    "\n",
    "scaler = StandardScaler()\n"
   ]
  },
  {
   "cell_type": "code",
   "execution_count": 60,
   "id": "35b1921fe4d7c7c4",
   "metadata": {
    "ExecuteTime": {
     "end_time": "2024-06-10T13:58:50.090642Z",
     "start_time": "2024-06-10T13:58:50.088139Z"
    }
   },
   "outputs": [],
   "source": [
    "\n",
    "X_train, X_test, y_train, y_test = train_test_split(X, y, test_size=0.2, random_state=42)"
   ]
  },
  {
   "cell_type": "code",
   "execution_count": 61,
   "id": "63cf7a1bf711eade",
   "metadata": {
    "ExecuteTime": {
     "end_time": "2024-06-10T13:58:50.095284Z",
     "start_time": "2024-06-10T13:58:50.091304Z"
    }
   },
   "outputs": [
    {
     "data": {
      "text/html": [
       "<style>#sk-container-id-5 {color: black;}#sk-container-id-5 pre{padding: 0;}#sk-container-id-5 div.sk-toggleable {background-color: white;}#sk-container-id-5 label.sk-toggleable__label {cursor: pointer;display: block;width: 100%;margin-bottom: 0;padding: 0.3em;box-sizing: border-box;text-align: center;}#sk-container-id-5 label.sk-toggleable__label-arrow:before {content: \"▸\";float: left;margin-right: 0.25em;color: #696969;}#sk-container-id-5 label.sk-toggleable__label-arrow:hover:before {color: black;}#sk-container-id-5 div.sk-estimator:hover label.sk-toggleable__label-arrow:before {color: black;}#sk-container-id-5 div.sk-toggleable__content {max-height: 0;max-width: 0;overflow: hidden;text-align: left;background-color: #f0f8ff;}#sk-container-id-5 div.sk-toggleable__content pre {margin: 0.2em;color: black;border-radius: 0.25em;background-color: #f0f8ff;}#sk-container-id-5 input.sk-toggleable__control:checked~div.sk-toggleable__content {max-height: 200px;max-width: 100%;overflow: auto;}#sk-container-id-5 input.sk-toggleable__control:checked~label.sk-toggleable__label-arrow:before {content: \"▾\";}#sk-container-id-5 div.sk-estimator input.sk-toggleable__control:checked~label.sk-toggleable__label {background-color: #d4ebff;}#sk-container-id-5 div.sk-label input.sk-toggleable__control:checked~label.sk-toggleable__label {background-color: #d4ebff;}#sk-container-id-5 input.sk-hidden--visually {border: 0;clip: rect(1px 1px 1px 1px);clip: rect(1px, 1px, 1px, 1px);height: 1px;margin: -1px;overflow: hidden;padding: 0;position: absolute;width: 1px;}#sk-container-id-5 div.sk-estimator {font-family: monospace;background-color: #f0f8ff;border: 1px dotted black;border-radius: 0.25em;box-sizing: border-box;margin-bottom: 0.5em;}#sk-container-id-5 div.sk-estimator:hover {background-color: #d4ebff;}#sk-container-id-5 div.sk-parallel-item::after {content: \"\";width: 100%;border-bottom: 1px solid gray;flex-grow: 1;}#sk-container-id-5 div.sk-label:hover label.sk-toggleable__label {background-color: #d4ebff;}#sk-container-id-5 div.sk-serial::before {content: \"\";position: absolute;border-left: 1px solid gray;box-sizing: border-box;top: 0;bottom: 0;left: 50%;z-index: 0;}#sk-container-id-5 div.sk-serial {display: flex;flex-direction: column;align-items: center;background-color: white;padding-right: 0.2em;padding-left: 0.2em;position: relative;}#sk-container-id-5 div.sk-item {position: relative;z-index: 1;}#sk-container-id-5 div.sk-parallel {display: flex;align-items: stretch;justify-content: center;background-color: white;position: relative;}#sk-container-id-5 div.sk-item::before, #sk-container-id-5 div.sk-parallel-item::before {content: \"\";position: absolute;border-left: 1px solid gray;box-sizing: border-box;top: 0;bottom: 0;left: 50%;z-index: -1;}#sk-container-id-5 div.sk-parallel-item {display: flex;flex-direction: column;z-index: 1;position: relative;background-color: white;}#sk-container-id-5 div.sk-parallel-item:first-child::after {align-self: flex-end;width: 50%;}#sk-container-id-5 div.sk-parallel-item:last-child::after {align-self: flex-start;width: 50%;}#sk-container-id-5 div.sk-parallel-item:only-child::after {width: 0;}#sk-container-id-5 div.sk-dashed-wrapped {border: 1px dashed gray;margin: 0 0.4em 0.5em 0.4em;box-sizing: border-box;padding-bottom: 0.4em;background-color: white;}#sk-container-id-5 div.sk-label label {font-family: monospace;font-weight: bold;display: inline-block;line-height: 1.2em;}#sk-container-id-5 div.sk-label-container {text-align: center;}#sk-container-id-5 div.sk-container {/* jupyter's `normalize.less` sets `[hidden] { display: none; }` but bootstrap.min.css set `[hidden] { display: none !important; }` so we also need the `!important` here to be able to override the default hidden behavior on the sphinx rendered scikit-learn.org. See: https://github.com/scikit-learn/scikit-learn/issues/21755 */display: inline-block !important;position: relative;}#sk-container-id-5 div.sk-text-repr-fallback {display: none;}</style><div id=\"sk-container-id-5\" class=\"sk-top-container\"><div class=\"sk-text-repr-fallback\"><pre>DecisionTreeClassifier()</pre><b>In a Jupyter environment, please rerun this cell to show the HTML representation or trust the notebook. <br />On GitHub, the HTML representation is unable to render, please try loading this page with nbviewer.org.</b></div><div class=\"sk-container\" hidden><div class=\"sk-item\"><div class=\"sk-estimator sk-toggleable\"><input class=\"sk-toggleable__control sk-hidden--visually\" id=\"sk-estimator-id-5\" type=\"checkbox\" checked><label for=\"sk-estimator-id-5\" class=\"sk-toggleable__label sk-toggleable__label-arrow\">DecisionTreeClassifier</label><div class=\"sk-toggleable__content\"><pre>DecisionTreeClassifier()</pre></div></div></div></div></div>"
      ],
      "text/plain": [
       "DecisionTreeClassifier()"
      ]
     },
     "execution_count": 61,
     "metadata": {},
     "output_type": "execute_result"
    }
   ],
   "source": [
    "model = tree.DecisionTreeClassifier()\n",
    "model.fit(X_train, y_train)"
   ]
  },
  {
   "cell_type": "code",
   "execution_count": 62,
   "id": "f872db79",
   "metadata": {},
   "outputs": [
    {
     "name": "stdout",
     "output_type": "stream",
     "text": [
      "    Wrd_per_zin  Bijzin_per_zin  Pers_vnw_d    AL_max\n",
      "12     11.41180        0.352941    82.47420  3.953120\n",
      "32      9.88235        0.176471    95.23810  4.352940\n",
      "9       6.80000        0.066667   147.05900  2.666670\n",
      "0       8.76190        0.238095   163.04300  2.666670\n",
      "4       8.00000        0.076923   144.23100  2.917780\n",
      "16      8.63475        0.248227    50.10270  3.319150\n",
      "17      5.50000        0.000000   162.33800  1.285710\n",
      "5      14.50000        1.000000    45.97700  6.222220\n",
      "13     17.50000        1.166670    38.09520  8.000000\n",
      "11      4.35000        0.000000   103.44800  0.771429\n",
      "1       9.17391        0.217391    99.52610  3.887820\n",
      "2      11.90000        0.250000    79.83190  4.843750\n",
      "30     16.64290        0.857143    30.04290  9.214290\n",
      "3      12.15380        0.615385     6.32911  4.986110\n",
      "29      5.75000        0.142857   105.59000  1.250000\n",
      "23     14.22220        0.666667    93.75000  6.261110\n",
      "31      5.43750        0.062500   206.89700  1.125000\n",
      "22     12.22220        0.500000    18.18180  6.055560\n",
      "18      8.63636        0.272727   115.78900  3.444440\n",
      "25      5.38889        0.055556   175.25800  1.375000\n",
      "6      12.22220        0.444444    81.81820  5.562500\n",
      "20      6.33333        0.055556   114.03500  2.074070\n",
      "33     14.00000        0.769231    98.90110  6.846150\n",
      "7      12.84620        0.384615    77.84430  4.923080\n",
      "10     15.83330        0.583333   105.26300  6.583330\n",
      "14      5.13953        0.104651    92.76020  1.780410\n",
      "28      4.78947        0.000000   131.86800  0.919444\n"
     ]
    }
   ],
   "source": [
    "print(X_train)"
   ]
  },
  {
   "cell_type": "code",
   "execution_count": 63,
   "id": "388a04ce4c0cbc93",
   "metadata": {
    "ExecuteTime": {
     "end_time": "2024-06-10T13:58:50.102052Z",
     "start_time": "2024-06-10T13:58:50.096382Z"
    }
   },
   "outputs": [
    {
     "name": "stdout",
     "output_type": "stream",
     "text": [
      "Accuracy: 0.42857142857142855\n",
      "              precision    recall  f1-score   support\n",
      "\n",
      "           1       0.50      1.00      0.67         1\n",
      "           2       0.00      0.00      0.00         1\n",
      "           3       0.33      1.00      0.50         1\n",
      "           4       0.00      0.00      0.00         1\n",
      "           6       0.00      0.00      0.00         1\n",
      "           8       1.00      0.50      0.67         2\n",
      "\n",
      "    accuracy                           0.43         7\n",
      "   macro avg       0.31      0.42      0.31         7\n",
      "weighted avg       0.40      0.43      0.36         7\n",
      "\n"
     ]
    },
    {
     "name": "stderr",
     "output_type": "stream",
     "text": [
      "/opt/homebrew/lib/python3.11/site-packages/sklearn/metrics/_classification.py:1471: UndefinedMetricWarning: Precision and F-score are ill-defined and being set to 0.0 in labels with no predicted samples. Use `zero_division` parameter to control this behavior.\n",
      "  _warn_prf(average, modifier, msg_start, len(result))\n",
      "/opt/homebrew/lib/python3.11/site-packages/sklearn/metrics/_classification.py:1471: UndefinedMetricWarning: Precision and F-score are ill-defined and being set to 0.0 in labels with no predicted samples. Use `zero_division` parameter to control this behavior.\n",
      "  _warn_prf(average, modifier, msg_start, len(result))\n",
      "/opt/homebrew/lib/python3.11/site-packages/sklearn/metrics/_classification.py:1471: UndefinedMetricWarning: Precision and F-score are ill-defined and being set to 0.0 in labels with no predicted samples. Use `zero_division` parameter to control this behavior.\n",
      "  _warn_prf(average, modifier, msg_start, len(result))\n"
     ]
    }
   ],
   "source": [
    "\n",
    "y_pred = model.predict(X_test)\n",
    "print(\"Accuracy:\", accuracy_score(y_test, y_pred))\n",
    "print(classification_report(y_test, y_pred))\n"
   ]
  },
  {
   "cell_type": "code",
   "execution_count": 64,
   "id": "cb3ceec52e230499",
   "metadata": {
    "ExecuteTime": {
     "end_time": "2024-06-10T13:58:50.108782Z",
     "start_time": "2024-06-10T13:58:50.102782Z"
    }
   },
   "outputs": [
    {
     "name": "stdout",
     "output_type": "stream",
     "text": [
      "Accuracy: 0.42857142857142855\n",
      "              precision    recall  f1-score   support\n",
      "\n",
      "           1       0.50      1.00      0.67         1\n",
      "           2       0.00      0.00      0.00         1\n",
      "           3       0.33      1.00      0.50         1\n",
      "           4       0.00      0.00      0.00         1\n",
      "           6       0.00      0.00      0.00         1\n",
      "           8       1.00      0.50      0.67         2\n",
      "\n",
      "    accuracy                           0.43         7\n",
      "   macro avg       0.31      0.42      0.31         7\n",
      "weighted avg       0.40      0.43      0.36         7\n",
      "\n"
     ]
    },
    {
     "name": "stderr",
     "output_type": "stream",
     "text": [
      "/opt/homebrew/lib/python3.11/site-packages/sklearn/metrics/_classification.py:1471: UndefinedMetricWarning: Precision and F-score are ill-defined and being set to 0.0 in labels with no predicted samples. Use `zero_division` parameter to control this behavior.\n",
      "  _warn_prf(average, modifier, msg_start, len(result))\n",
      "/opt/homebrew/lib/python3.11/site-packages/sklearn/metrics/_classification.py:1471: UndefinedMetricWarning: Precision and F-score are ill-defined and being set to 0.0 in labels with no predicted samples. Use `zero_division` parameter to control this behavior.\n",
      "  _warn_prf(average, modifier, msg_start, len(result))\n",
      "/opt/homebrew/lib/python3.11/site-packages/sklearn/metrics/_classification.py:1471: UndefinedMetricWarning: Precision and F-score are ill-defined and being set to 0.0 in labels with no predicted samples. Use `zero_division` parameter to control this behavior.\n",
      "  _warn_prf(average, modifier, msg_start, len(result))\n"
     ]
    }
   ],
   "source": [
    "from sklearn.metrics import accuracy_score, classification_report\n",
    "\n",
    "y_pred = model.predict(X_test)\n",
    "print(\"Accuracy:\", accuracy_score(y_test, y_pred))\n",
    "print(classification_report(y_test, y_pred))"
   ]
  },
  {
   "cell_type": "code",
   "execution_count": 65,
   "id": "2ae8f11f",
   "metadata": {},
   "outputs": [
    {
     "data": {
      "text/plain": [
       "[Text(0.5, 0.9375, 'x[1] <= 0.542\\ngini = 0.848\\nsamples = 27\\nvalue = [6, 3, 3, 2, 3, 2, 6, 2]'),\n",
       " Text(0.2, 0.8125, 'x[3] <= 1.33\\ngini = 0.82\\nsamples = 20\\nvalue = [6, 3, 3, 1, 3, 2, 0, 2]'),\n",
       " Text(0.1, 0.6875, 'gini = 0.0\\nsamples = 5\\nvalue = [5, 0, 0, 0, 0, 0, 0, 0]'),\n",
       " Text(0.3, 0.6875, 'x[1] <= 0.072\\ngini = 0.836\\nsamples = 15\\nvalue = [1, 3, 3, 1, 3, 2, 0, 2]'),\n",
       " Text(0.2, 0.5625, 'gini = 0.0\\nsamples = 3\\nvalue = [0, 3, 0, 0, 0, 0, 0, 0]'),\n",
       " Text(0.4, 0.5625, 'x[2] <= 97.382\\ngini = 0.806\\nsamples = 12\\nvalue = [1, 0, 3, 1, 3, 2, 0, 2]'),\n",
       " Text(0.2, 0.4375, 'x[3] <= 3.636\\ngini = 0.719\\nsamples = 8\\nvalue = [0, 0, 0, 1, 3, 2, 0, 2]'),\n",
       " Text(0.1, 0.3125, 'gini = 0.0\\nsamples = 2\\nvalue = [0, 0, 0, 0, 0, 0, 0, 2]'),\n",
       " Text(0.3, 0.3125, 'x[2] <= 78.838\\ngini = 0.611\\nsamples = 6\\nvalue = [0, 0, 0, 1, 3, 2, 0, 0]'),\n",
       " Text(0.2, 0.1875, 'gini = 0.0\\nsamples = 2\\nvalue = [0, 0, 0, 0, 0, 2, 0, 0]'),\n",
       " Text(0.4, 0.1875, 'x[1] <= 0.213\\ngini = 0.375\\nsamples = 4\\nvalue = [0, 0, 0, 1, 3, 0, 0, 0]'),\n",
       " Text(0.3, 0.0625, 'gini = 0.0\\nsamples = 1\\nvalue = [0, 0, 0, 1, 0, 0, 0, 0]'),\n",
       " Text(0.5, 0.0625, 'gini = 0.0\\nsamples = 3\\nvalue = [0, 0, 0, 0, 3, 0, 0, 0]'),\n",
       " Text(0.6, 0.4375, 'x[3] <= 2.792\\ngini = 0.375\\nsamples = 4\\nvalue = [1, 0, 3, 0, 0, 0, 0, 0]'),\n",
       " Text(0.5, 0.3125, 'gini = 0.0\\nsamples = 1\\nvalue = [1, 0, 0, 0, 0, 0, 0, 0]'),\n",
       " Text(0.7, 0.3125, 'gini = 0.0\\nsamples = 3\\nvalue = [0, 0, 3, 0, 0, 0, 0, 0]'),\n",
       " Text(0.8, 0.8125, 'x[0] <= 14.361\\ngini = 0.245\\nsamples = 7\\nvalue = [0, 0, 0, 1, 0, 0, 6, 0]'),\n",
       " Text(0.7, 0.6875, 'x[0] <= 14.111\\ngini = 0.444\\nsamples = 3\\nvalue = [0, 0, 0, 1, 0, 0, 2, 0]'),\n",
       " Text(0.6, 0.5625, 'gini = 0.0\\nsamples = 2\\nvalue = [0, 0, 0, 0, 0, 0, 2, 0]'),\n",
       " Text(0.8, 0.5625, 'gini = 0.0\\nsamples = 1\\nvalue = [0, 0, 0, 1, 0, 0, 0, 0]'),\n",
       " Text(0.9, 0.6875, 'gini = 0.0\\nsamples = 4\\nvalue = [0, 0, 0, 0, 0, 0, 4, 0]')]"
      ]
     },
     "execution_count": 65,
     "metadata": {},
     "output_type": "execute_result"
    },
    {
     "data": {
      "image/png": "[encoded data removed]",
      "text/plain": [
       "<Figure size 640x480 with 1 Axes>"
      ]
     },
     "metadata": {},
     "output_type": "display_data"
    }
   ],
   "source": [
    "tree.plot_tree(model)"
   ]
  },
  {
   "cell_type": "code",
   "execution_count": 66,
   "id": "41380c89",
   "metadata": {},
   "outputs": [
    {
     "name": "stdout",
     "output_type": "stream",
     "text": [
      "          Feature  Importance\n",
      "1  Bijzin_per_zin    0.399376\n",
      "3          AL_max    0.325485\n",
      "2      Pers_vnw_d    0.200243\n",
      "0     Wrd_per_zin    0.074896\n"
     ]
    }
   ],
   "source": [
    "feature_importances = model.feature_importances_\n",
    "feature_names = X.columns\n",
    "\n",
    "feature_importance_df = pd.DataFrame({'Feature': feature_names, 'Importance': feature_importances})\n",
    "feature_importance_df = feature_importance_df.sort_values(by='Importance', ascending=False)\n",
    "print(feature_importance_df)"
   ]
  }
 ],
 "metadata": {
  "kernelspec": {
   "display_name": "Python 3",
   "language": "python",
   "name": "python3"
  },
  "language_info": {
   "codemirror_mode": {
    "name": "ipython",
    "version": 3
   },
   "file_extension": ".py",
   "mimetype": "text/x-python",
   "name": "python",
   "nbconvert_exporter": "python",
   "pygments_lexer": "ipython3",
   "version": "3.11.9"
  }
 },
 "nbformat": 4,
 "nbformat_minor": 5
}
