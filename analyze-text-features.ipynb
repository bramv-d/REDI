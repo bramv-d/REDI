{
 "cells": [
  {
   "cell_type": "markdown",
   "id": "52d4d43102de9189",
   "metadata": {},
   "source": [
    "This notebook is used to analyze the text features from the t-scan model.\n",
    "The output of the anaysis is a machine learning model that predicts the AVI score of a text based on the text features."
   ]
  },
  {
   "cell_type": "code",
   "execution_count": 1649,
   "id": "initial_id",
   "metadata": {
    "ExecuteTime": {
     "end_time": "2024-06-10T13:58:50.037556Z",
     "start_time": "2024-06-10T13:58:50.035465Z"
    }
   },
   "outputs": [],
   "source": [
    "import pandas as pd\n",
    "import numpy as np\n",
    "from sklearn.model_selection import train_test_split\n",
    "from sklearn import tree\n",
    "from sklearn.svm import SVC\n",
    "from sklearn.linear_model import LogisticRegression\n",
    "from sklearn.metrics import accuracy_score, classification_report\n",
    "from sklearn.preprocessing import StandardScaler\n",
    "from sklearn.model_selection import train_test_split\n",
    "import matplotlib.pyplot as plt\n",
    "from sklearn.model_selection import KFold\n",
    "from scipy import stats\n",
    "from sklearn.linear_model import LinearRegression\n"
   ]
  },
  {
   "cell_type": "code",
   "execution_count": 1650,
   "id": "9a19ee6a33eb14fa",
   "metadata": {
    "ExecuteTime": {
     "end_time": "2024-06-10T13:58:50.053485Z",
     "start_time": "2024-06-10T13:58:50.039095Z"
    }
   },
   "outputs": [
    {
     "data": {
      "text/html": [
       "<div>\n",
       "<style scoped>\n",
       "    .dataframe tbody tr th:only-of-type {\n",
       "        vertical-align: middle;\n",
       "    }\n",
       "\n",
       "    .dataframe tbody tr th {\n",
       "        vertical-align: top;\n",
       "    }\n",
       "\n",
       "    .dataframe thead th {\n",
       "        text-align: right;\n",
       "    }\n",
       "</style>\n",
       "<table border=\"1\" class=\"dataframe\">\n",
       "  <thead>\n",
       "    <tr style=\"text-align: right;\">\n",
       "      <th></th>\n",
       "      <th>Inputfile</th>\n",
       "      <th>Par_per_doc</th>\n",
       "      <th>Zin_per_doc</th>\n",
       "      <th>Word_per_doc</th>\n",
       "      <th>Alpino_status</th>\n",
       "      <th>wrd_freq_log_zn_corr</th>\n",
       "      <th>wrd_freq_zn_log</th>\n",
       "      <th>Conc_nw_ruim_p</th>\n",
       "      <th>Conc_nw_strikt_p</th>\n",
       "      <th>Alg_nw_d</th>\n",
       "      <th>...</th>\n",
       "      <th>Log_prob_bwd_inhwrd_zn</th>\n",
       "      <th>Entropie_bwd</th>\n",
       "      <th>Entropie_bwd_norm</th>\n",
       "      <th>Perplexiteit_bwd</th>\n",
       "      <th>Perplexiteit_bwd_norm</th>\n",
       "      <th>Eigen_classificatie</th>\n",
       "      <th>LiNT_score1</th>\n",
       "      <th>LiNT_niveau1</th>\n",
       "      <th>LiNT_score2</th>\n",
       "      <th>LiNT_niveau2</th>\n",
       "    </tr>\n",
       "  </thead>\n",
       "  <tbody>\n",
       "    <tr>\n",
       "      <th>0</th>\n",
       "      <td>input/AVI_4_vijfer.txt</td>\n",
       "      <td>1</td>\n",
       "      <td>8</td>\n",
       "      <td>105</td>\n",
       "      <td>0</td>\n",
       "      <td>4.85383</td>\n",
       "      <td>4.76046</td>\n",
       "      <td>0.800000</td>\n",
       "      <td>0.200000</td>\n",
       "      <td>0.0</td>\n",
       "      <td>...</td>\n",
       "      <td>NaN</td>\n",
       "      <td>NaN</td>\n",
       "      <td>NaN</td>\n",
       "      <td>NaN</td>\n",
       "      <td>NaN</td>\n",
       "      <td>NaN</td>\n",
       "      <td>26.1652</td>\n",
       "      <td>1</td>\n",
       "      <td>27.9740</td>\n",
       "      <td>1</td>\n",
       "    </tr>\n",
       "    <tr>\n",
       "      <th>1</th>\n",
       "      <td>input/AVI_4_jongen.txt</td>\n",
       "      <td>1</td>\n",
       "      <td>4</td>\n",
       "      <td>107</td>\n",
       "      <td>0</td>\n",
       "      <td>4.87906</td>\n",
       "      <td>4.80560</td>\n",
       "      <td>0.894737</td>\n",
       "      <td>0.789474</td>\n",
       "      <td>0.0</td>\n",
       "      <td>...</td>\n",
       "      <td>NaN</td>\n",
       "      <td>NaN</td>\n",
       "      <td>NaN</td>\n",
       "      <td>NaN</td>\n",
       "      <td>NaN</td>\n",
       "      <td>NaN</td>\n",
       "      <td>33.3231</td>\n",
       "      <td>1</td>\n",
       "      <td>32.6028</td>\n",
       "      <td>1</td>\n",
       "    </tr>\n",
       "    <tr>\n",
       "      <th>2</th>\n",
       "      <td>input/AVI_8_frans.txt</td>\n",
       "      <td>1</td>\n",
       "      <td>13</td>\n",
       "      <td>138</td>\n",
       "      <td>0</td>\n",
       "      <td>4.62739</td>\n",
       "      <td>4.61028</td>\n",
       "      <td>0.764706</td>\n",
       "      <td>0.558824</td>\n",
       "      <td>0.0</td>\n",
       "      <td>...</td>\n",
       "      <td>NaN</td>\n",
       "      <td>NaN</td>\n",
       "      <td>NaN</td>\n",
       "      <td>NaN</td>\n",
       "      <td>NaN</td>\n",
       "      <td>NaN</td>\n",
       "      <td>35.1191</td>\n",
       "      <td>2</td>\n",
       "      <td>33.8752</td>\n",
       "      <td>1</td>\n",
       "    </tr>\n",
       "    <tr>\n",
       "      <th>3</th>\n",
       "      <td>input/AVI_7_cijfer.txt</td>\n",
       "      <td>1</td>\n",
       "      <td>10</td>\n",
       "      <td>93</td>\n",
       "      <td>0</td>\n",
       "      <td>4.16929</td>\n",
       "      <td>4.04726</td>\n",
       "      <td>0.840000</td>\n",
       "      <td>0.720000</td>\n",
       "      <td>0.0</td>\n",
       "      <td>...</td>\n",
       "      <td>NaN</td>\n",
       "      <td>NaN</td>\n",
       "      <td>NaN</td>\n",
       "      <td>NaN</td>\n",
       "      <td>NaN</td>\n",
       "      <td>NaN</td>\n",
       "      <td>43.4656</td>\n",
       "      <td>2</td>\n",
       "      <td>41.3559</td>\n",
       "      <td>2</td>\n",
       "    </tr>\n",
       "    <tr>\n",
       "      <th>4</th>\n",
       "      <td>input/AVI_1_beer.txt</td>\n",
       "      <td>1</td>\n",
       "      <td>9</td>\n",
       "      <td>72</td>\n",
       "      <td>0</td>\n",
       "      <td>5.22533</td>\n",
       "      <td>5.22533</td>\n",
       "      <td>0.692308</td>\n",
       "      <td>0.692308</td>\n",
       "      <td>0.0</td>\n",
       "      <td>...</td>\n",
       "      <td>NaN</td>\n",
       "      <td>NaN</td>\n",
       "      <td>NaN</td>\n",
       "      <td>NaN</td>\n",
       "      <td>NaN</td>\n",
       "      <td>NaN</td>\n",
       "      <td>16.1034</td>\n",
       "      <td>1</td>\n",
       "      <td>12.5536</td>\n",
       "      <td>1</td>\n",
       "    </tr>\n",
       "  </tbody>\n",
       "</table>\n",
       "<p>5 rows × 473 columns</p>\n",
       "</div>"
      ],
      "text/plain": [
       "                Inputfile  Par_per_doc  Zin_per_doc  Word_per_doc  \\\n",
       "0  input/AVI_4_vijfer.txt            1            8           105   \n",
       "1  input/AVI_4_jongen.txt            1            4           107   \n",
       "2   input/AVI_8_frans.txt            1           13           138   \n",
       "3  input/AVI_7_cijfer.txt            1           10            93   \n",
       "4    input/AVI_1_beer.txt            1            9            72   \n",
       "\n",
       "   Alpino_status  wrd_freq_log_zn_corr  wrd_freq_zn_log  Conc_nw_ruim_p  \\\n",
       "0              0               4.85383          4.76046        0.800000   \n",
       "1              0               4.87906          4.80560        0.894737   \n",
       "2              0               4.62739          4.61028        0.764706   \n",
       "3              0               4.16929          4.04726        0.840000   \n",
       "4              0               5.22533          5.22533        0.692308   \n",
       "\n",
       "   Conc_nw_strikt_p  Alg_nw_d  ...  Log_prob_bwd_inhwrd_zn  Entropie_bwd  \\\n",
       "0          0.200000       0.0  ...                     NaN           NaN   \n",
       "1          0.789474       0.0  ...                     NaN           NaN   \n",
       "2          0.558824       0.0  ...                     NaN           NaN   \n",
       "3          0.720000       0.0  ...                     NaN           NaN   \n",
       "4          0.692308       0.0  ...                     NaN           NaN   \n",
       "\n",
       "   Entropie_bwd_norm  Perplexiteit_bwd  Perplexiteit_bwd_norm  \\\n",
       "0                NaN               NaN                    NaN   \n",
       "1                NaN               NaN                    NaN   \n",
       "2                NaN               NaN                    NaN   \n",
       "3                NaN               NaN                    NaN   \n",
       "4                NaN               NaN                    NaN   \n",
       "\n",
       "   Eigen_classificatie  LiNT_score1  LiNT_niveau1  LiNT_score2  LiNT_niveau2  \n",
       "0                  NaN      26.1652             1      27.9740             1  \n",
       "1                  NaN      33.3231             1      32.6028             1  \n",
       "2                  NaN      35.1191             2      33.8752             1  \n",
       "3                  NaN      43.4656             2      41.3559             2  \n",
       "4                  NaN      16.1034             1      12.5536             1  \n",
       "\n",
       "[5 rows x 473 columns]"
      ]
     },
     "execution_count": 1650,
     "metadata": {},
     "output_type": "execute_result"
    }
   ],
   "source": [
    "# Load the data into a pandas dataframe\n",
    "data = pd.read_csv('14-06-2024.csv', index_col=False)\n",
    "data.head()"
   ]
  },
  {
   "cell_type": "code",
   "execution_count": 1651,
   "id": "4366a2286138a755",
   "metadata": {
    "ExecuteTime": {
     "end_time": "2024-06-10T13:58:50.057061Z",
     "start_time": "2024-06-10T13:58:50.054609Z"
    }
   },
   "outputs": [],
   "source": [
    "# Place the AVI score in a separate variable\n",
    "# Currently it is in the title column and we need to extract it\n",
    "first_column = data['Inputfile']\n",
    "# Extract AVI scores from strings\n",
    "avi_scores = [s.split('_')[1] for s in first_column]\n",
    "\n",
    "# Add the AVI scores to the dataframe\n",
    "data.insert(1, 'AVI', avi_scores)\n",
    "# Make the avi the second column"
   ]
  },
  {
   "cell_type": "code",
   "execution_count": 1652,
   "id": "b9d4e498792b190c",
   "metadata": {
    "ExecuteTime": {
     "end_time": "2024-06-10T13:58:50.074058Z",
     "start_time": "2024-06-10T13:58:50.065654Z"
    }
   },
   "outputs": [],
   "source": [
    "# Save the data to a new csv file\n",
    "data.to_csv('results_with_avi.csv', index=False)"
   ]
  },
  {
   "cell_type": "code",
   "execution_count": 1653,
   "id": "9084c4a5",
   "metadata": {},
   "outputs": [],
   "source": [
    "# Define test and train data\n",
    "X = data.drop(columns=['AVI', 'Inputfile'])\n",
    "y = data['AVI']\n",
    "y = y.astype(int)"
   ]
  },
  {
   "cell_type": "code",
   "execution_count": 1654,
   "id": "1487681979fd47c2",
   "metadata": {
    "ExecuteTime": {
     "end_time": "2024-06-10T13:58:50.077286Z",
     "start_time": "2024-06-10T13:58:50.075037Z"
    }
   },
   "outputs": [],
   "source": [
    "# Keep these columns and drop the rest\n",
    "# columns_to_keep = ['Wrd_per_zin','Pers_vnw_d', \"AL_max\", \"Let_per_wrd_corr\"]\n",
    "# X = X[columns_to_keep]"
   ]
  },
  {
   "cell_type": "code",
   "execution_count": null,
   "id": "dccc4cf8",
   "metadata": {},
   "outputs": [],
   "source": []
  },
  {
   "cell_type": "code",
   "execution_count": 1655,
   "id": "f9678847",
   "metadata": {},
   "outputs": [
    {
     "data": {
      "text/plain": [
       "<bound method NDFrame.head of      Par_per_doc  Zin_per_doc  Word_per_doc  Alpino_status  \\\n",
       "0              1            8           105              0   \n",
       "1              1            4           107              0   \n",
       "2              1           13           138              0   \n",
       "3              1           10            93              0   \n",
       "4              1            9            72              0   \n",
       "..           ...          ...           ...            ...   \n",
       "182            1           10            84              0   \n",
       "183            1            5            23              0   \n",
       "184            1           28           152              0   \n",
       "185            1           11            95              0   \n",
       "186            1           13           133              0   \n",
       "\n",
       "     wrd_freq_log_zn_corr  wrd_freq_zn_log  Conc_nw_ruim_p  Conc_nw_strikt_p  \\\n",
       "0                 4.85383          4.76046        0.800000          0.200000   \n",
       "1                 4.87906          4.80560        0.894737          0.789474   \n",
       "2                 4.62739          4.61028        0.764706          0.558824   \n",
       "3                 4.16929          4.04726        0.840000          0.720000   \n",
       "4                 5.22533          5.22533        0.692308          0.692308   \n",
       "..                    ...              ...             ...               ...   \n",
       "182               4.01394          3.42805        0.909091          0.727273   \n",
       "183               4.23758          4.10850        1.000000          1.000000   \n",
       "184               5.27690          5.27690        1.000000          0.909091   \n",
       "185               5.18016          5.15587        0.923077          0.769231   \n",
       "186               4.77954          4.61577        0.517241          0.310345   \n",
       "\n",
       "     Alg_nw_d  Pers_ref_d  ...  Log_prob_bwd_inhwrd_zn  Entropie_bwd  \\\n",
       "0      0.0000    114.2860  ...                     NaN           NaN   \n",
       "1      0.0000    121.4950  ...                     NaN           NaN   \n",
       "2      0.0000    115.9420  ...                     NaN           NaN   \n",
       "3      0.0000    129.0320  ...                     NaN           NaN   \n",
       "4      0.0000    208.3330  ...                     NaN           NaN   \n",
       "..        ...         ...  ...                     ...           ...   \n",
       "182   11.9048     95.2381  ...                     NaN           NaN   \n",
       "183    0.0000     43.4783  ...                     NaN           NaN   \n",
       "184    0.0000    210.5260  ...                     NaN           NaN   \n",
       "185    0.0000    115.7890  ...                     NaN           NaN   \n",
       "186   15.0376     97.7444  ...                     NaN           NaN   \n",
       "\n",
       "     Entropie_bwd_norm  Perplexiteit_bwd  Perplexiteit_bwd_norm  \\\n",
       "0                  NaN               NaN                    NaN   \n",
       "1                  NaN               NaN                    NaN   \n",
       "2                  NaN               NaN                    NaN   \n",
       "3                  NaN               NaN                    NaN   \n",
       "4                  NaN               NaN                    NaN   \n",
       "..                 ...               ...                    ...   \n",
       "182                NaN               NaN                    NaN   \n",
       "183                NaN               NaN                    NaN   \n",
       "184                NaN               NaN                    NaN   \n",
       "185                NaN               NaN                    NaN   \n",
       "186                NaN               NaN                    NaN   \n",
       "\n",
       "     Eigen_classificatie  LiNT_score1  LiNT_niveau1  LiNT_score2  LiNT_niveau2  \n",
       "0                    NaN      26.1652             1     27.97400             1  \n",
       "1                    NaN      33.3231             1     32.60280             1  \n",
       "2                    NaN      35.1191             2     33.87520             1  \n",
       "3                    NaN      43.4656             2     41.35590             2  \n",
       "4                    NaN      16.1034             1     12.55360             1  \n",
       "..                   ...          ...           ...          ...           ...  \n",
       "182                  NaN      44.7243             2     40.16860             2  \n",
       "183                  NaN      34.6663             2     26.57650             1  \n",
       "184                  NaN      14.5395             1      9.98497             1  \n",
       "185                  NaN      20.5472             1     19.62820             1  \n",
       "186                  NaN      32.2493             1     34.14330             2  \n",
       "\n",
       "[187 rows x 472 columns]>"
      ]
     },
     "execution_count": 1655,
     "metadata": {},
     "output_type": "execute_result"
    }
   ],
   "source": [
    "X.head"
   ]
  },
  {
   "cell_type": "code",
   "execution_count": 1656,
   "id": "35b1921fe4d7c7c4",
   "metadata": {
    "ExecuteTime": {
     "end_time": "2024-06-10T13:58:50.090642Z",
     "start_time": "2024-06-10T13:58:50.088139Z"
    }
   },
   "outputs": [],
   "source": [
    "X_train, X_test, y_train, y_test = train_test_split(X, y, test_size=0.2, random_state=42)"
   ]
  },
  {
   "cell_type": "code",
   "execution_count": 1657,
   "id": "63cf7a1bf711eade",
   "metadata": {
    "ExecuteTime": {
     "end_time": "2024-06-10T13:58:50.095284Z",
     "start_time": "2024-06-10T13:58:50.091304Z"
    }
   },
   "outputs": [
    {
     "data": {
      "text/html": [
       "<style>#sk-container-id-128 {color: black;}#sk-container-id-128 pre{padding: 0;}#sk-container-id-128 div.sk-toggleable {background-color: white;}#sk-container-id-128 label.sk-toggleable__label {cursor: pointer;display: block;width: 100%;margin-bottom: 0;padding: 0.3em;box-sizing: border-box;text-align: center;}#sk-container-id-128 label.sk-toggleable__label-arrow:before {content: \"▸\";float: left;margin-right: 0.25em;color: #696969;}#sk-container-id-128 label.sk-toggleable__label-arrow:hover:before {color: black;}#sk-container-id-128 div.sk-estimator:hover label.sk-toggleable__label-arrow:before {color: black;}#sk-container-id-128 div.sk-toggleable__content {max-height: 0;max-width: 0;overflow: hidden;text-align: left;background-color: #f0f8ff;}#sk-container-id-128 div.sk-toggleable__content pre {margin: 0.2em;color: black;border-radius: 0.25em;background-color: #f0f8ff;}#sk-container-id-128 input.sk-toggleable__control:checked~div.sk-toggleable__content {max-height: 200px;max-width: 100%;overflow: auto;}#sk-container-id-128 input.sk-toggleable__control:checked~label.sk-toggleable__label-arrow:before {content: \"▾\";}#sk-container-id-128 div.sk-estimator input.sk-toggleable__control:checked~label.sk-toggleable__label {background-color: #d4ebff;}#sk-container-id-128 div.sk-label input.sk-toggleable__control:checked~label.sk-toggleable__label {background-color: #d4ebff;}#sk-container-id-128 input.sk-hidden--visually {border: 0;clip: rect(1px 1px 1px 1px);clip: rect(1px, 1px, 1px, 1px);height: 1px;margin: -1px;overflow: hidden;padding: 0;position: absolute;width: 1px;}#sk-container-id-128 div.sk-estimator {font-family: monospace;background-color: #f0f8ff;border: 1px dotted black;border-radius: 0.25em;box-sizing: border-box;margin-bottom: 0.5em;}#sk-container-id-128 div.sk-estimator:hover {background-color: #d4ebff;}#sk-container-id-128 div.sk-parallel-item::after {content: \"\";width: 100%;border-bottom: 1px solid gray;flex-grow: 1;}#sk-container-id-128 div.sk-label:hover label.sk-toggleable__label {background-color: #d4ebff;}#sk-container-id-128 div.sk-serial::before {content: \"\";position: absolute;border-left: 1px solid gray;box-sizing: border-box;top: 0;bottom: 0;left: 50%;z-index: 0;}#sk-container-id-128 div.sk-serial {display: flex;flex-direction: column;align-items: center;background-color: white;padding-right: 0.2em;padding-left: 0.2em;position: relative;}#sk-container-id-128 div.sk-item {position: relative;z-index: 1;}#sk-container-id-128 div.sk-parallel {display: flex;align-items: stretch;justify-content: center;background-color: white;position: relative;}#sk-container-id-128 div.sk-item::before, #sk-container-id-128 div.sk-parallel-item::before {content: \"\";position: absolute;border-left: 1px solid gray;box-sizing: border-box;top: 0;bottom: 0;left: 50%;z-index: -1;}#sk-container-id-128 div.sk-parallel-item {display: flex;flex-direction: column;z-index: 1;position: relative;background-color: white;}#sk-container-id-128 div.sk-parallel-item:first-child::after {align-self: flex-end;width: 50%;}#sk-container-id-128 div.sk-parallel-item:last-child::after {align-self: flex-start;width: 50%;}#sk-container-id-128 div.sk-parallel-item:only-child::after {width: 0;}#sk-container-id-128 div.sk-dashed-wrapped {border: 1px dashed gray;margin: 0 0.4em 0.5em 0.4em;box-sizing: border-box;padding-bottom: 0.4em;background-color: white;}#sk-container-id-128 div.sk-label label {font-family: monospace;font-weight: bold;display: inline-block;line-height: 1.2em;}#sk-container-id-128 div.sk-label-container {text-align: center;}#sk-container-id-128 div.sk-container {/* jupyter's `normalize.less` sets `[hidden] { display: none; }` but bootstrap.min.css set `[hidden] { display: none !important; }` so we also need the `!important` here to be able to override the default hidden behavior on the sphinx rendered scikit-learn.org. See: https://github.com/scikit-learn/scikit-learn/issues/21755 */display: inline-block !important;position: relative;}#sk-container-id-128 div.sk-text-repr-fallback {display: none;}</style><div id=\"sk-container-id-128\" class=\"sk-top-container\"><div class=\"sk-text-repr-fallback\"><pre>DecisionTreeClassifier()</pre><b>In a Jupyter environment, please rerun this cell to show the HTML representation or trust the notebook. <br />On GitHub, the HTML representation is unable to render, please try loading this page with nbviewer.org.</b></div><div class=\"sk-container\" hidden><div class=\"sk-item\"><div class=\"sk-estimator sk-toggleable\"><input class=\"sk-toggleable__control sk-hidden--visually\" id=\"sk-estimator-id-128\" type=\"checkbox\" checked><label for=\"sk-estimator-id-128\" class=\"sk-toggleable__label sk-toggleable__label-arrow\">DecisionTreeClassifier</label><div class=\"sk-toggleable__content\"><pre>DecisionTreeClassifier()</pre></div></div></div></div></div>"
      ],
      "text/plain": [
       "DecisionTreeClassifier()"
      ]
     },
     "execution_count": 1657,
     "metadata": {},
     "output_type": "execute_result"
    }
   ],
   "source": [
    "model = tree.DecisionTreeClassifier()\n",
    "model.fit(X_train, y_train)"
   ]
  },
  {
   "cell_type": "code",
   "execution_count": 1658,
   "id": "388a04ce4c0cbc93",
   "metadata": {
    "ExecuteTime": {
     "end_time": "2024-06-10T13:58:50.102052Z",
     "start_time": "2024-06-10T13:58:50.096382Z"
    }
   },
   "outputs": [
    {
     "name": "stdout",
     "output_type": "stream",
     "text": [
      "Accuracy: 0.2894736842105263\n",
      "              precision    recall  f1-score   support\n",
      "\n",
      "           1       0.00      0.00      0.00         7\n",
      "           2       0.00      0.00      0.00         3\n",
      "           3       0.28      0.62      0.38         8\n",
      "           4       0.00      0.00      0.00         1\n",
      "           5       0.33      0.33      0.33         3\n",
      "           6       0.50      0.20      0.29         5\n",
      "           7       0.50      0.40      0.44         5\n",
      "           8       0.50      0.20      0.29         5\n",
      "           9       0.33      1.00      0.50         1\n",
      "\n",
      "    accuracy                           0.29        38\n",
      "   macro avg       0.27      0.31      0.25        38\n",
      "weighted avg       0.29      0.29      0.25        38\n",
      "\n"
     ]
    },
    {
     "name": "stderr",
     "output_type": "stream",
     "text": [
      "/opt/homebrew/lib/python3.11/site-packages/sklearn/metrics/_classification.py:1471: UndefinedMetricWarning: Precision and F-score are ill-defined and being set to 0.0 in labels with no predicted samples. Use `zero_division` parameter to control this behavior.\n",
      "  _warn_prf(average, modifier, msg_start, len(result))\n",
      "/opt/homebrew/lib/python3.11/site-packages/sklearn/metrics/_classification.py:1471: UndefinedMetricWarning: Precision and F-score are ill-defined and being set to 0.0 in labels with no predicted samples. Use `zero_division` parameter to control this behavior.\n",
      "  _warn_prf(average, modifier, msg_start, len(result))\n",
      "/opt/homebrew/lib/python3.11/site-packages/sklearn/metrics/_classification.py:1471: UndefinedMetricWarning: Precision and F-score are ill-defined and being set to 0.0 in labels with no predicted samples. Use `zero_division` parameter to control this behavior.\n",
      "  _warn_prf(average, modifier, msg_start, len(result))\n"
     ]
    }
   ],
   "source": [
    "\n",
    "y_pred = model.predict(X_test)\n",
    "print(\"Accuracy:\", accuracy_score(y_test, y_pred))\n",
    "print(classification_report(y_test, y_pred))"
   ]
  },
  {
   "cell_type": "code",
   "execution_count": 1659,
   "id": "41380c89",
   "metadata": {},
   "outputs": [
    {
     "name": "stdout",
     "output_type": "stream",
     "text": [
      "             Feature  Importance\n",
      "106     Dzin_per_wrd    0.167384\n",
      "417             Ww_d    0.045447\n",
      "128            Nom_d    0.042261\n",
      "333  Gelabeld_bvnw_p    0.034303\n",
      "331      Subj_bvnw_d    0.022371\n",
      "..               ...         ...\n",
      "250    Concr_ov_nw_d         NaN\n",
      "290     Kleur_bvnw_p         NaN\n",
      "338       Abstr_ww_d         NaN\n",
      "397        Vd_vrij_d         NaN\n",
      "412           Lidw_d         NaN\n",
      "\n",
      "[472 rows x 2 columns]\n"
     ]
    }
   ],
   "source": [
    "feature_importances = model.feature_importances_\n",
    "feature_names = X.columns\n",
    "\n",
    "feature_importance_df = pd.DataFrame({'Feature': feature_names, 'Importance': feature_importances})\n",
    "feature_importance_df = feature_importance_df.sort_values(by='Importance', ascending=False)\n",
    "print(feature_importance_df)"
   ]
  },
  {
   "cell_type": "code",
   "execution_count": 1660,
   "id": "1e7de63a",
   "metadata": {},
   "outputs": [
    {
     "name": "stdout",
     "output_type": "stream",
     "text": [
      "Classification Report:\n",
      "              precision    recall  f1-score   support\n",
      "\n",
      "           1       1.00      1.00      1.00        22\n",
      "           2       1.00      1.00      1.00        11\n",
      "           3       1.00      1.00      1.00        48\n",
      "           4       1.00      1.00      1.00        16\n",
      "           5       1.00      0.95      0.97        20\n",
      "           6       1.00      1.00      1.00        19\n",
      "           7       0.91      1.00      0.95        21\n",
      "           8       1.00      0.95      0.98        22\n",
      "           9       0.88      0.88      0.88         8\n",
      "\n",
      "    accuracy                           0.98       187\n",
      "   macro avg       0.98      0.98      0.98       187\n",
      "weighted avg       0.98      0.98      0.98       187\n",
      "\n"
     ]
    }
   ],
   "source": [
    "\n",
    "# Step 1: Fit a Linear Regression model\n",
    "model = LinearRegression()\n",
    "X.dropna(axis=1, inplace=True)\n",
    "model.fit(X, y)\n",
    "\n",
    "# Step 2: Predict continuous values\n",
    "y_pred_continuous = model.predict(X)\n",
    "\n",
    "# Map continuous predictions to nearest integer\n",
    "y_pred_class = np.round(y_pred_continuous).astype(int)\n",
    "\n",
    "# Ensure predictions are within the range of 1 to 9\n",
    "y_pred_class = np.clip(y_pred_class, 1, 9)\n",
    "\n",
    "\n",
    "# Generate classification report\n",
    "print(\"Classification Report:\")\n",
    "print(classification_report(y, y_pred_class))"
   ]
  },
  {
   "cell_type": "code",
   "execution_count": 1662,
   "id": "f073b1a9",
   "metadata": {},
   "outputs": [
    {
     "name": "stdout",
     "output_type": "stream",
     "text": [
      "Classification Report:\n",
      "              precision    recall  f1-score   support\n",
      "\n",
      "           1       0.33      0.57      0.42         7\n",
      "           2       0.50      0.33      0.40         3\n",
      "           3       0.50      0.12      0.20         8\n",
      "           4       0.00      0.00      0.00         1\n",
      "           5       0.33      0.33      0.33         3\n",
      "           6       0.00      0.00      0.00         5\n",
      "           7       0.33      0.20      0.25         5\n",
      "           8       0.00      0.00      0.00         5\n",
      "           9       0.08      1.00      0.14         1\n",
      "\n",
      "    accuracy                           0.24        38\n",
      "   macro avg       0.23      0.28      0.19        38\n",
      "weighted avg       0.28      0.24      0.21        38\n",
      "\n"
     ]
    },
    {
     "name": "stderr",
     "output_type": "stream",
     "text": [
      "/opt/homebrew/lib/python3.11/site-packages/sklearn/metrics/_classification.py:1471: UndefinedMetricWarning: Precision and F-score are ill-defined and being set to 0.0 in labels with no predicted samples. Use `zero_division` parameter to control this behavior.\n",
      "  _warn_prf(average, modifier, msg_start, len(result))\n",
      "/opt/homebrew/lib/python3.11/site-packages/sklearn/metrics/_classification.py:1471: UndefinedMetricWarning: Precision and F-score are ill-defined and being set to 0.0 in labels with no predicted samples. Use `zero_division` parameter to control this behavior.\n",
      "  _warn_prf(average, modifier, msg_start, len(result))\n",
      "/opt/homebrew/lib/python3.11/site-packages/sklearn/metrics/_classification.py:1471: UndefinedMetricWarning: Precision and F-score are ill-defined and being set to 0.0 in labels with no predicted samples. Use `zero_division` parameter to control this behavior.\n",
      "  _warn_prf(average, modifier, msg_start, len(result))\n"
     ]
    }
   ],
   "source": [
    "# Step 1: Fit a Linear Regression model\n",
    "model = LinearRegression()\n",
    "X.dropna(axis=1, inplace=True)\n",
    "X_train, X_test, y_train, y_test = train_test_split(X, y, test_size=0.2, random_state=42)\n",
    "model.fit(X_train, y_train)\n",
    "\n",
    "# Step 2: Predict continuous values\n",
    "y_pred_continuous = model.predict(X_test)\n",
    "\n",
    "# Map continuous predictions to nearest integer\n",
    "y_pred_class = np.round(y_pred_continuous).astype(int)\n",
    "\n",
    "# Ensure predictions are within the range of 1 to 9\n",
    "y_pred_class = np.clip(y_pred_class, 1, 9)\n",
    "\n",
    "\n",
    "# Generate classification report\n",
    "print(\"Classification Report:\")\n",
    "print(classification_report(y_test, y_pred_class))\n"
   ]
  }
 ],
 "metadata": {
  "kernelspec": {
   "display_name": "Python 3",
   "language": "python",
   "name": "python3"
  },
  "language_info": {
   "codemirror_mode": {
    "name": "ipython",
    "version": 3
   },
   "file_extension": ".py",
   "mimetype": "text/x-python",
   "name": "python",
   "nbconvert_exporter": "python",
   "pygments_lexer": "ipython3",
   "version": "3.11.9"
  }
 },
 "nbformat": 4,
 "nbformat_minor": 5
}
